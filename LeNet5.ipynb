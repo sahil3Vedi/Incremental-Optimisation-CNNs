{
  "nbformat": 4,
  "nbformat_minor": 0,
  "metadata": {
    "colab": {
      "name": "LeNet5.ipynb",
      "provenance": [],
      "authorship_tag": "ABX9TyOito9cJeDG6bITHHzu5Um2",
      "include_colab_link": true
    },
    "kernelspec": {
      "name": "python3",
      "display_name": "Python 3"
    },
    "language_info": {
      "name": "python"
    },
    "accelerator": "GPU"
  },
  "cells": [
    {
      "cell_type": "markdown",
      "metadata": {
        "id": "view-in-github",
        "colab_type": "text"
      },
      "source": [
        "<a href=\"https://colab.research.google.com/github/sahil3Vedi/Incremental-Optimisation-CNNs/blob/main/LeNet5.ipynb\" target=\"_parent\"><img src=\"https://colab.research.google.com/assets/colab-badge.svg\" alt=\"Open In Colab\"/></a>"
      ]
    },
    {
      "cell_type": "code",
      "metadata": {
        "id": "bhdgMMSvmgUr"
      },
      "source": [
        "'''\n",
        "Implementing LeNet 5 on the MNIST dataset using Keras\n",
        "'''\n",
        "# Credits to https://github.com/vaibhavcodes/DeepLearning-Architectures for providing the starter code\n",
        "\n",
        "# Importing Libraries\n",
        "import tensorflow as tf\n",
        "import keras\n",
        "from keras.datasets import mnist\n",
        "from keras.models import Sequential\n",
        "from keras.layers import Conv2D, AvgPool2D, Flatten, Dense\n",
        "#from keras.optimizers import Adam\n",
        "from tensorflow.keras.optimizers import Adam \n",
        "from tensorflow.keras.utils import to_categorical\n",
        "from keras.utils.vis_utils import plot_model\n",
        "# Image processing & plotting\n",
        "from PIL import Image\n",
        "import matplotlib.pyplot as plt"
      ],
      "execution_count": 2,
      "outputs": []
    },
    {
      "cell_type": "code",
      "metadata": {
        "colab": {
          "base_uri": "https://localhost:8080/"
        },
        "id": "v_DxUKaBr4Ye",
        "outputId": "379e4ce1-ba58-41b3-826b-e4db8e528525"
      },
      "source": [
        "# Loading the dataset and performing train-test split\n",
        "(train_x, train_y), (test_x, test_y) = mnist.load_data()\n",
        "\n",
        "# Checking the sizes of train and test split\n",
        "print(\"The size of train_x is: {}\".format(train_x.shape))\n",
        "print(\"The size of train_y is: {}\".format(train_y.shape))\n",
        "print(\"The size of test_x is: {}\".format(test_x.shape))\n",
        "print(\"The size of test_y is: {}\".format(test_y.shape))\n",
        "\n",
        "# Performing reshaping operations = Converting into 4D\n",
        "train_x = train_x.reshape(train_x.shape[0], 28, 28, 1)\n",
        "test_x = test_x.reshape(test_x.shape[0], 28, 28, 1)\n",
        "\n",
        "# Normalizing the values of the image- Converting in between 0 and 1\n",
        "train_x = train_x/255.0\n",
        "test_x = test_x/255.0\n",
        "\n",
        "# One-hot encoding the labels\n",
        "train_y = to_categorical(train_y, num_classes=10)\n",
        "test_y = to_categorical(test_y, num_classes=10)"
      ],
      "execution_count": 3,
      "outputs": [
        {
          "output_type": "stream",
          "name": "stdout",
          "text": [
            "Downloading data from https://storage.googleapis.com/tensorflow/tf-keras-datasets/mnist.npz\n",
            "11493376/11490434 [==============================] - 0s 0us/step\n",
            "11501568/11490434 [==============================] - 0s 0us/step\n",
            "The size of train_x is: (60000, 28, 28)\n",
            "The size of train_y is: (60000,)\n",
            "The size of test_x is: (10000, 28, 28)\n",
            "The size of test_y is: (10000,)\n"
          ]
        }
      ]
    },
    {
      "cell_type": "code",
      "metadata": {
        "colab": {
          "base_uri": "https://localhost:8080/"
        },
        "id": "An4jUmDbstpj",
        "outputId": "a8eeeb56-d7a5-4477-fd3a-bba8db09205c"
      },
      "source": [
        "# Building the Model Architecture\n",
        "\n",
        "# Instanciate an empty model\n",
        "model = Sequential()\n",
        "\n",
        "# Adding a Convolution Layer C1\n",
        "# Input shape = N = (28 x 28)\n",
        "# No. of filters  = 6\n",
        "# Filter size = f = (5 x 5)\n",
        "# Padding = P = 0\n",
        "# Strides = S = 1\n",
        "# Size of each feature map in C1 is (N-f+2P)/S +1 = 28-5+1 = 24\n",
        "# No. of parameters between input layer and C1 = (5*5 + 1)*6 = 156\n",
        "model.add(Conv2D(filters=6, kernel_size=(5,5), padding='valid', input_shape=(28,28,1), activation='tanh'))\n",
        "\n",
        "# Adding an Average Pooling Layer S2\n",
        "# Input shape = N = (24 x 24)\n",
        "# No. of filters = 6\n",
        "# Filter size = f = (2 x 2)\n",
        "# Padding = P = 0\n",
        "# Strides = S = 2\n",
        "# Size of each feature map in S2 is (N-f+2P)/S +1 = (24-2+0)/2+1 = 11+1 = 12\n",
        "# No. of parameters between C1 and S2 = (1+1)*6 = 12\n",
        "model.add(AvgPool2D(pool_size=(2,2)))\n",
        "\n",
        "# Adding a Convolution Layer C3\n",
        "# Input shape = N = (12 x 12)\n",
        "# No. of filters  = 16\n",
        "# Filter size = f = (5 x 5)\n",
        "# Padding = P = 0\n",
        "# Strides = S = 1\n",
        "# Size of each feature map in C3 is (N-f+2P)/S +1 = 12-5+1 = 8\n",
        "# No. of parameters between S2 and C3 = (5*5*6*16 + 16) + 16 = 2416\n",
        "model.add(Conv2D(filters=16, kernel_size=(5,5), padding='valid', activation='tanh'))\n",
        "\n",
        "# Adding an Average Pooling Layer S4\n",
        "# Input shape = N = (8 x 8)\n",
        "# No. of filters = 16\n",
        "# Filter size = f = (2 x 2)\n",
        "# Padding = P = 0\n",
        "# Strides = S = 2\n",
        "# Size of each feature map in S4 is (N-f+2P)/S +1 = (8-2+0)/2+1 = 3+1 = 4\n",
        "# No. of parameters between C3 and S4 = (1+1)*16 = 32\n",
        "model.add(AvgPool2D(pool_size=(2,2)))\n",
        "\n",
        "# As compared to LeNet-5 architecture there was one more application of convolution but in our code  further application of \n",
        "# convolution with (5 x 5) filter would result in a negative dimension which is not possible. So we aren't applying any more\n",
        "# convolution here.\n",
        "\n",
        "# Flattening the layer S4\n",
        "# There would be 16*(4*4) = 256 neurons\n",
        "model.add(Flatten())\n",
        "\n",
        "# Adding a Dense layer with `tanh` activation+# \n",
        "# No. of inputs = 256\n",
        "# No. of outputs = 120\n",
        "# No. of parameters = 256*120 + 120 = 30,840\n",
        "model.add(Dense(120, activation='tanh'))\n",
        "\n",
        "# Adding a Dense layer with `tanh` activation\n",
        "# No. of inputs = 120\n",
        "# No. of outputs = 84\n",
        "# No. of parameters = 120*84 + 84 = 10,164\n",
        "model.add(Dense(84, activation='tanh'))\n",
        "\n",
        "# Adding a Dense layer with `softmax` activation\n",
        "# No. of inputs = 84\n",
        "# No. of outputs = 10\n",
        "# No. of parameters = 84*10 + 10 = 850\n",
        "model.add(Dense(10, activation='softmax'))\n",
        "\n",
        "model.summary()"
      ],
      "execution_count": 4,
      "outputs": [
        {
          "output_type": "stream",
          "name": "stdout",
          "text": [
            "Model: \"sequential\"\n",
            "_________________________________________________________________\n",
            "Layer (type)                 Output Shape              Param #   \n",
            "=================================================================\n",
            "conv2d (Conv2D)              (None, 24, 24, 6)         156       \n",
            "_________________________________________________________________\n",
            "average_pooling2d (AveragePo (None, 12, 12, 6)         0         \n",
            "_________________________________________________________________\n",
            "conv2d_1 (Conv2D)            (None, 8, 8, 16)          2416      \n",
            "_________________________________________________________________\n",
            "average_pooling2d_1 (Average (None, 4, 4, 16)          0         \n",
            "_________________________________________________________________\n",
            "flatten (Flatten)            (None, 256)               0         \n",
            "_________________________________________________________________\n",
            "dense (Dense)                (None, 120)               30840     \n",
            "_________________________________________________________________\n",
            "dense_1 (Dense)              (None, 84)                10164     \n",
            "_________________________________________________________________\n",
            "dense_2 (Dense)              (None, 10)                850       \n",
            "=================================================================\n",
            "Total params: 44,426\n",
            "Trainable params: 44,426\n",
            "Non-trainable params: 0\n",
            "_________________________________________________________________\n"
          ]
        }
      ]
    },
    {
      "cell_type": "code",
      "metadata": {
        "colab": {
          "base_uri": "https://localhost:8080/"
        },
        "id": "CKUxFDc-svwD",
        "outputId": "80db30fa-6799-4ed5-a6d1-916172d384eb"
      },
      "source": [
        "# Compiling the model\n",
        "model.compile(loss='categorical_crossentropy', optimizer=Adam(), metrics=['accuracy'])\n",
        "history = model.fit(train_x, train_y, batch_size=128, epochs=20, verbose=1, validation_data=(test_x, test_y))"
      ],
      "execution_count": 5,
      "outputs": [
        {
          "output_type": "stream",
          "name": "stdout",
          "text": [
            "Epoch 1/20\n",
            "469/469 [==============================] - 31s 7ms/step - loss: 0.3587 - accuracy: 0.8946 - val_loss: 0.1758 - val_accuracy: 0.9499\n",
            "Epoch 2/20\n",
            "469/469 [==============================] - 3s 6ms/step - loss: 0.1343 - accuracy: 0.9592 - val_loss: 0.1021 - val_accuracy: 0.9682\n",
            "Epoch 3/20\n",
            "469/469 [==============================] - 3s 6ms/step - loss: 0.0900 - accuracy: 0.9721 - val_loss: 0.0753 - val_accuracy: 0.9764\n",
            "Epoch 4/20\n",
            "469/469 [==============================] - 3s 7ms/step - loss: 0.0664 - accuracy: 0.9797 - val_loss: 0.0625 - val_accuracy: 0.9809\n",
            "Epoch 5/20\n",
            "469/469 [==============================] - 3s 7ms/step - loss: 0.0523 - accuracy: 0.9839 - val_loss: 0.0551 - val_accuracy: 0.9829\n",
            "Epoch 6/20\n",
            "469/469 [==============================] - 3s 6ms/step - loss: 0.0428 - accuracy: 0.9866 - val_loss: 0.0559 - val_accuracy: 0.9813\n",
            "Epoch 7/20\n",
            "469/469 [==============================] - 3s 6ms/step - loss: 0.0354 - accuracy: 0.9895 - val_loss: 0.0494 - val_accuracy: 0.9839\n",
            "Epoch 8/20\n",
            "469/469 [==============================] - 3s 7ms/step - loss: 0.0305 - accuracy: 0.9904 - val_loss: 0.0459 - val_accuracy: 0.9841\n",
            "Epoch 9/20\n",
            "469/469 [==============================] - 3s 6ms/step - loss: 0.0260 - accuracy: 0.9921 - val_loss: 0.0505 - val_accuracy: 0.9836\n",
            "Epoch 10/20\n",
            "469/469 [==============================] - 3s 6ms/step - loss: 0.0215 - accuracy: 0.9933 - val_loss: 0.0496 - val_accuracy: 0.9842\n",
            "Epoch 11/20\n",
            "469/469 [==============================] - 3s 6ms/step - loss: 0.0193 - accuracy: 0.9939 - val_loss: 0.0485 - val_accuracy: 0.9851\n",
            "Epoch 12/20\n",
            "469/469 [==============================] - 3s 6ms/step - loss: 0.0171 - accuracy: 0.9945 - val_loss: 0.0444 - val_accuracy: 0.9859\n",
            "Epoch 13/20\n",
            "469/469 [==============================] - 3s 6ms/step - loss: 0.0144 - accuracy: 0.9955 - val_loss: 0.0401 - val_accuracy: 0.9876\n",
            "Epoch 14/20\n",
            "469/469 [==============================] - 3s 7ms/step - loss: 0.0124 - accuracy: 0.9962 - val_loss: 0.0439 - val_accuracy: 0.9860\n",
            "Epoch 15/20\n",
            "469/469 [==============================] - 3s 6ms/step - loss: 0.0117 - accuracy: 0.9964 - val_loss: 0.0454 - val_accuracy: 0.9866\n",
            "Epoch 16/20\n",
            "469/469 [==============================] - 3s 7ms/step - loss: 0.0094 - accuracy: 0.9973 - val_loss: 0.0455 - val_accuracy: 0.9870\n",
            "Epoch 17/20\n",
            "469/469 [==============================] - 3s 6ms/step - loss: 0.0078 - accuracy: 0.9979 - val_loss: 0.0535 - val_accuracy: 0.9841\n",
            "Epoch 18/20\n",
            "469/469 [==============================] - 3s 6ms/step - loss: 0.0091 - accuracy: 0.9971 - val_loss: 0.0472 - val_accuracy: 0.9861\n",
            "Epoch 19/20\n",
            "469/469 [==============================] - 3s 7ms/step - loss: 0.0084 - accuracy: 0.9975 - val_loss: 0.0515 - val_accuracy: 0.9854\n",
            "Epoch 20/20\n",
            "469/469 [==============================] - 3s 6ms/step - loss: 0.0054 - accuracy: 0.9988 - val_loss: 0.0474 - val_accuracy: 0.9870\n"
          ]
        }
      ]
    },
    {
      "cell_type": "code",
      "metadata": {
        "colab": {
          "base_uri": "https://localhost:8080/",
          "height": 295
        },
        "id": "lrGRsGXd75YC",
        "outputId": "6914b5ab-7eff-4d02-f361-5ba90b8af9c0"
      },
      "source": [
        "# summarize history for accuracy\n",
        "plt.plot(history.history['accuracy'])\n",
        "plt.plot(history.history['val_accuracy'])\n",
        "plt.title('model accuracy')\n",
        "plt.ylabel('accuracy')\n",
        "plt.xlabel('epoch')\n",
        "plt.legend(['train', 'test'], loc='upper left')\n",
        "plt.show()"
      ],
      "execution_count": 6,
      "outputs": [
        {
          "output_type": "display_data",
          "data": {
            "image/png": "[encoded data removed]",
            "text/plain": [
              "<Figure size 432x288 with 1 Axes>"
            ]
          },
          "metadata": {
            "needs_background": "light"
          }
        }
      ]
    },
    {
      "cell_type": "code",
      "metadata": {
        "colab": {
          "base_uri": "https://localhost:8080/"
        },
        "id": "LI8SD06Zsy7b",
        "outputId": "d3ce9bf5-4bce-48ef-fd4c-996619ebe6e4"
      },
      "source": [
        "# Finding the loss and accuracy of the model\n",
        "score = model.evaluate(test_x, test_y)\n",
        "\n",
        "print('Test Loss:', score[0])\n",
        "print('Test accuracy:', score[1])"
      ],
      "execution_count": 7,
      "outputs": [
        {
          "output_type": "stream",
          "name": "stdout",
          "text": [
            "313/313 [==============================] - 1s 3ms/step - loss: 0.0474 - accuracy: 0.9870\n",
            "Test Loss: 0.04741187021136284\n",
            "Test accuracy: 0.9869999885559082\n"
          ]
        }
      ]
    }
  ]
}