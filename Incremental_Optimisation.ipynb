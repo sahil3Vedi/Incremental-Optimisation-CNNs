{
  "nbformat": 4,
  "nbformat_minor": 0,
  "metadata": {
    "colab": {
      "name": "Incremental Optimisation.ipynb",
      "provenance": [],
      "collapsed_sections": [],
      "authorship_tag": "ABX9TyNZASFg98wEFEbISGlUAYC8",
      "include_colab_link": true
    },
    "kernelspec": {
      "name": "python3",
      "display_name": "Python 3"
    },
    "language_info": {
      "name": "python"
    },
    "accelerator": "GPU"
  },
  "cells": [
    {
      "cell_type": "markdown",
      "metadata": {
        "id": "view-in-github",
        "colab_type": "text"
      },
      "source": [
        "<a href=\"https://colab.research.google.com/github/sahil3Vedi/Incremental-Optimisation-CNNs/blob/main/Incremental_Optimisation.ipynb\" target=\"_parent\"><img src=\"https://colab.research.google.com/assets/colab-badge.svg\" alt=\"Open In Colab\"/></a>"
      ]
    },
    {
      "cell_type": "code",
      "metadata": {
        "id": "jLrJSdPS_3yC"
      },
      "source": [
        "'''\n",
        "Implementing LeNet 5 on the MNIST dataset using Keras\n",
        "'''\n",
        "# Credits to https://github.com/vaibhavcodes/DeepLearning-Architectures for providing the starter code\n",
        "\n",
        "# Importing Libraries\n",
        "import tensorflow as tf\n",
        "import keras\n",
        "from keras.datasets import mnist\n",
        "from keras.models import Sequential\n",
        "from keras.layers import Conv2D, AvgPool2D, Flatten, Dense, Dropout\n",
        "#from keras.optimizers import Adam\n",
        "from tensorflow.keras.optimizers import Adam \n",
        "from tensorflow.keras.utils import to_categorical\n",
        "from keras.utils.vis_utils import plot_model\n",
        "# Image processing & plotting\n",
        "from PIL import Image\n",
        "import matplotlib.pyplot as plt\n",
        "import numpy as np\n",
        "import cv2 as cv"
      ],
      "execution_count": null,
      "outputs": []
    },
    {
      "cell_type": "code",
      "metadata": {
        "id": "XG3pJBfOAMVb"
      },
      "source": [
        "# Loading the dataset and performing train-test split\n",
        "(train_x, train_y), (test_x, test_y) = mnist.load_data()\n",
        "\n",
        "# Spawn multiple, incrementally denoised copies of the training data\n",
        "\n",
        "train_1 = train_x # No Denoising\n",
        "train_2 = []\n",
        "train_3 = []\n",
        "train_4 = []\n",
        "train_5 = []\n",
        "\n",
        "kernel_2 = np.ones((2,2),np.float32)/4\n",
        "kernel_3 = np.ones((3,3),np.float32)/9\n",
        "kernel_4 = np.ones((4,4),np.float32)/16\n",
        "kernel_5 = np.ones((25,25),np.float32)/25\n",
        "\n",
        "for img in train_x:\n",
        "  sharp = img.reshape(28,28)\n",
        "  dst_2 = cv.filter2D(sharp,-1,kernel_2)\n",
        "  dst_3 = cv.filter2D(sharp,-1,kernel_3)\n",
        "  dst_4 = cv.filter2D(sharp,-1,kernel_4)\n",
        "  dst_5 = cv.filter2D(sharp,-1,kernel_5)\n",
        "  train_2.append(dst_2)\n",
        "  train_3.append(dst_3)\n",
        "  train_4.append(dst_4)\n",
        "  train_5.append(dst_5)\n",
        "\n",
        "train_1 = np.array(train_1)\n",
        "train_2 = np.array(train_2)\n",
        "train_3 = np.array(train_3)\n",
        "train_4 = np.array(train_4)\n",
        "train_5 = np.array(train_5)\n"
      ],
      "execution_count": null,
      "outputs": []
    },
    {
      "cell_type": "code",
      "metadata": {
        "colab": {
          "base_uri": "https://localhost:8080/"
        },
        "id": "7nMZV_JECrNp",
        "outputId": "993c2401-56d8-4414-9363-410a19d8ae40"
      },
      "source": [
        "print(np.shape(train_x))\n",
        "print(np.shape(train_1))\n",
        "print(np.shape(train_2))\n",
        "print(np.shape(train_3))\n",
        "print(np.shape(train_4))\n",
        "print(np.shape(train_5))"
      ],
      "execution_count": null,
      "outputs": [
        {
          "output_type": "stream",
          "name": "stdout",
          "text": [
            "(60000, 28, 28)\n",
            "(60000, 28, 28)\n",
            "(60000, 28, 28)\n",
            "(60000, 28, 28)\n",
            "(60000, 28, 28)\n",
            "(60000, 28, 28)\n"
          ]
        }
      ]
    },
    {
      "cell_type": "code",
      "metadata": {
        "colab": {
          "base_uri": "https://localhost:8080/"
        },
        "id": "QTh4pHpoCBvk",
        "outputId": "1585a416-9d70-418d-9e96-da0ab56bb37a"
      },
      "source": [
        "# Checking the sizes of train and test split\n",
        "print(\"The size of train_1 is: {}\".format(train_1.shape))\n",
        "print(\"The size of train_2 is: {}\".format(train_2.shape))\n",
        "print(\"The size of train_3 is: {}\".format(train_3.shape))\n",
        "print(\"The size of train_4 is: {}\".format(train_4.shape))\n",
        "print(\"The size of train_5 is: {}\".format(train_5.shape))\n",
        "print(\"The size of train_x is: {}\".format(train_x.shape))\n",
        "print(\"The size of train_y is: {}\".format(train_y.shape))\n",
        "print(\"The size of test_x is: {}\".format(test_x.shape))\n",
        "print(\"The size of test_y is: {}\".format(test_y.shape))\n",
        "\n",
        "# Performing reshaping operations = Converting into 4D\n",
        "train_1 = train_1.reshape(train_1.shape[0], 28, 28, 1)\n",
        "train_2 = train_2.reshape(train_2.shape[0], 28, 28, 1)\n",
        "train_3 = train_3.reshape(train_3.shape[0], 28, 28, 1)\n",
        "train_4 = train_4.reshape(train_4.shape[0], 28, 28, 1)\n",
        "train_5 = train_5.reshape(train_5.shape[0], 28, 28, 1)\n",
        "train_x = train_x.reshape(train_x.shape[0], 28, 28, 1)\n",
        "test_x = test_x.reshape(test_x.shape[0], 28, 28, 1)\n",
        "\n",
        "# Normalizing the values of the image- Converting in between 0 and 1\n",
        "train_1 = train_1/255.0\n",
        "train_2 = train_2/255.0\n",
        "train_3 = train_3/255.0\n",
        "train_4 = train_4/255.0\n",
        "train_5 = train_5/255.0\n",
        "train_x = train_x/255.0\n",
        "test_x = test_x/255.0\n",
        "\n",
        "# One-hot encoding the labels\n",
        "train_y = to_categorical(train_y, num_classes=10)\n",
        "test_y = to_categorical(test_y, num_classes=10)"
      ],
      "execution_count": null,
      "outputs": [
        {
          "output_type": "stream",
          "name": "stdout",
          "text": [
            "The size of train_1 is: (60000, 28, 28)\n",
            "The size of train_2 is: (60000, 28, 28)\n",
            "The size of train_3 is: (60000, 28, 28)\n",
            "The size of train_4 is: (60000, 28, 28)\n",
            "The size of train_5 is: (60000, 28, 28)\n",
            "The size of train_x is: (60000, 28, 28)\n",
            "The size of train_y is: (60000,)\n",
            "The size of test_x is: (10000, 28, 28)\n",
            "The size of test_y is: (10000,)\n"
          ]
        }
      ]
    },
    {
      "cell_type": "code",
      "metadata": {
        "colab": {
          "base_uri": "https://localhost:8080/"
        },
        "id": "RgelWjFOAQKY",
        "outputId": "5f62034e-6a25-49b5-afd8-e63dbc996f02"
      },
      "source": [
        "# Building the Model Architecture\n",
        "\n",
        "# Instanciate an empty model\n",
        "model = Sequential()\n",
        "\n",
        "# Adding a Convolution Layer C1\n",
        "# Input shape = N = (28 x 28)\n",
        "# No. of filters  = 6\n",
        "# Filter size = f = (5 x 5)\n",
        "# Padding = P = 0\n",
        "# Strides = S = 1\n",
        "# Size of each feature map in C1 is (N-f+2P)/S +1 = 28-5+1 = 24\n",
        "# No. of parameters between input layer and C1 = (5*5 + 1)*6 = 156\n",
        "model.add(Conv2D(filters=6, kernel_size=(5,5), padding='valid', input_shape=(28,28,1), activation='tanh'))\n",
        "\n",
        "# Adding an Average Pooling Layer S2\n",
        "# Input shape = N = (24 x 24)\n",
        "# No. of filters = 6\n",
        "# Filter size = f = (2 x 2)\n",
        "# Padding = P = 0\n",
        "# Strides = S = 2\n",
        "# Size of each feature map in S2 is (N-f+2P)/S +1 = (24-2+0)/2+1 = 11+1 = 12\n",
        "# No. of parameters between C1 and S2 = (1+1)*6 = 12\n",
        "model.add(AvgPool2D(pool_size=(2,2)))\n",
        "\n",
        "# Adding a Convolution Layer C3\n",
        "# Input shape = N = (12 x 12)\n",
        "# No. of filters  = 16\n",
        "# Filter size = f = (5 x 5)\n",
        "# Padding = P = 0\n",
        "# Strides = S = 1\n",
        "# Size of each feature map in C3 is (N-f+2P)/S +1 = 12-5+1 = 8\n",
        "# No. of parameters between S2 and C3 = (5*5*6*16 + 16) + 16 = 2416\n",
        "model.add(Conv2D(filters=16, kernel_size=(5,5), padding='valid', activation='tanh'))\n",
        "\n",
        "# Adding an Average Pooling Layer S4\n",
        "# Input shape = N = (8 x 8)\n",
        "# No. of filters = 16\n",
        "# Filter size = f = (2 x 2)\n",
        "# Padding = P = 0\n",
        "# Strides = S = 2\n",
        "# Size of each feature map in S4 is (N-f+2P)/S +1 = (8-2+0)/2+1 = 3+1 = 4\n",
        "# No. of parameters between C3 and S4 = (1+1)*16 = 32\n",
        "model.add(AvgPool2D(pool_size=(2,2)))\n",
        "\n",
        "# As compared to LeNet-5 architecture there was one more application of convolution but in our code  further application of \n",
        "# convolution with (5 x 5) filter would result in a negative dimension which is not possible. So we aren't applying any more\n",
        "# convolution here.\n",
        "\n",
        "# Flattening the layer S4\n",
        "# There would be 16*(4*4) = 256 neurons\n",
        "model.add(Flatten())\n",
        "\n",
        "# Adding a Dense layer with `tanh` activation+# \n",
        "# No. of inputs = 256\n",
        "# No. of outputs = 120\n",
        "# No. of parameters = 256*120 + 120 = 30,840\n",
        "model.add(Dense(120, activation='tanh'))\n",
        "model.add(Dropout(.2, input_shape=(120,)))\n",
        "\n",
        "# Adding a Dense layer with `tanh` activation\n",
        "# No. of inputs = 120\n",
        "# No. of outputs = 84\n",
        "# No. of parameters = 120*84 + 84 = 10,164\n",
        "model.add(Dense(84, activation='tanh'))\n",
        "model.add(Dropout(.05, input_shape=(84,)))\n",
        "\n",
        "# Adding a Dense layer with `softmax` activation\n",
        "# No. of inputs = 84\n",
        "# No. of outputs = 10\n",
        "# No. of parameters = 84*10 + 10 = 850\n",
        "model.add(Dense(10, activation='softmax'))\n",
        "\n",
        "model.summary()"
      ],
      "execution_count": null,
      "outputs": [
        {
          "output_type": "stream",
          "name": "stdout",
          "text": [
            "Model: \"sequential\"\n",
            "_________________________________________________________________\n",
            "Layer (type)                 Output Shape              Param #   \n",
            "=================================================================\n",
            "conv2d (Conv2D)              (None, 24, 24, 6)         156       \n",
            "_________________________________________________________________\n",
            "average_pooling2d (AveragePo (None, 12, 12, 6)         0         \n",
            "_________________________________________________________________\n",
            "conv2d_1 (Conv2D)            (None, 8, 8, 16)          2416      \n",
            "_________________________________________________________________\n",
            "average_pooling2d_1 (Average (None, 4, 4, 16)          0         \n",
            "_________________________________________________________________\n",
            "flatten (Flatten)            (None, 256)               0         \n",
            "_________________________________________________________________\n",
            "dense (Dense)                (None, 120)               30840     \n",
            "_________________________________________________________________\n",
            "dropout (Dropout)            (None, 120)               0         \n",
            "_________________________________________________________________\n",
            "dense_1 (Dense)              (None, 84)                10164     \n",
            "_________________________________________________________________\n",
            "dropout_1 (Dropout)          (None, 84)                0         \n",
            "_________________________________________________________________\n",
            "dense_2 (Dense)              (None, 10)                850       \n",
            "=================================================================\n",
            "Total params: 44,426\n",
            "Trainable params: 44,426\n",
            "Non-trainable params: 0\n",
            "_________________________________________________________________\n"
          ]
        }
      ]
    },
    {
      "cell_type": "code",
      "metadata": {
        "colab": {
          "base_uri": "https://localhost:8080/"
        },
        "id": "INtJ_RNwAxPJ",
        "outputId": "ec07464d-5a21-4e77-f2c2-d411b1cb9731"
      },
      "source": [
        "# Compiling the model\n",
        "model.compile(loss='categorical_crossentropy', optimizer=Adam(), metrics=['accuracy'])\n",
        "history_5 = model.fit(train_5, train_y, batch_size=64, epochs=6, verbose=1, validation_data=(test_x, test_y))\n",
        "history_4 = model.fit(train_4, train_y, batch_size=64, epochs=6, verbose=1, validation_data=(test_x, test_y))\n",
        "history_3 = model.fit(train_3, train_y, batch_size=64, epochs=6, verbose=1, validation_data=(test_x, test_y))\n",
        "history_2 = model.fit(train_2, train_y, batch_size=64, epochs=6, verbose=1, validation_data=(test_x, test_y))\n",
        "history_1 = model.fit(train_1, train_y, batch_size=64, epochs=6, verbose=1, validation_data=(test_x, test_y))"
      ],
      "execution_count": null,
      "outputs": [
        {
          "output_type": "stream",
          "name": "stdout",
          "text": [
            "Epoch 1/6\n",
            "938/938 [==============================] - 7s 6ms/step - loss: 2.0192 - accuracy: 0.2275 - val_loss: 5.8536 - val_accuracy: 0.0609\n",
            "Epoch 2/6\n",
            "938/938 [==============================] - 5s 6ms/step - loss: 1.8896 - accuracy: 0.2795 - val_loss: 6.7305 - val_accuracy: 0.0689\n",
            "Epoch 3/6\n",
            "938/938 [==============================] - 5s 5ms/step - loss: 1.8438 - accuracy: 0.3003 - val_loss: 7.2849 - val_accuracy: 0.0644\n",
            "Epoch 4/6\n",
            "938/938 [==============================] - 5s 5ms/step - loss: 1.8152 - accuracy: 0.3141 - val_loss: 7.4606 - val_accuracy: 0.0665\n",
            "Epoch 5/6\n",
            "938/938 [==============================] - 5s 5ms/step - loss: 1.7930 - accuracy: 0.3225 - val_loss: 7.0073 - val_accuracy: 0.0664\n",
            "Epoch 6/6\n",
            "938/938 [==============================] - 5s 5ms/step - loss: 1.7794 - accuracy: 0.3269 - val_loss: 6.8329 - val_accuracy: 0.0668\n",
            "Epoch 1/6\n",
            "938/938 [==============================] - 5s 5ms/step - loss: 0.3863 - accuracy: 0.8875 - val_loss: 0.2868 - val_accuracy: 0.9122\n",
            "Epoch 2/6\n",
            "938/938 [==============================] - 5s 5ms/step - loss: 0.1817 - accuracy: 0.9455 - val_loss: 0.2067 - val_accuracy: 0.9381\n",
            "Epoch 3/6\n",
            "938/938 [==============================] - 5s 5ms/step - loss: 0.1405 - accuracy: 0.9570 - val_loss: 0.1806 - val_accuracy: 0.9449\n",
            "Epoch 4/6\n",
            "938/938 [==============================] - 5s 6ms/step - loss: 0.1199 - accuracy: 0.9633 - val_loss: 0.1500 - val_accuracy: 0.9561\n",
            "Epoch 5/6\n",
            "938/938 [==============================] - 5s 6ms/step - loss: 0.1053 - accuracy: 0.9674 - val_loss: 0.1686 - val_accuracy: 0.9499\n",
            "Epoch 6/6\n",
            "938/938 [==============================] - 5s 6ms/step - loss: 0.0907 - accuracy: 0.9723 - val_loss: 0.1319 - val_accuracy: 0.9600\n",
            "Epoch 1/6\n",
            "938/938 [==============================] - 5s 5ms/step - loss: 0.0835 - accuracy: 0.9745 - val_loss: 0.0694 - val_accuracy: 0.9790\n",
            "Epoch 2/6\n",
            "938/938 [==============================] - 5s 6ms/step - loss: 0.0727 - accuracy: 0.9769 - val_loss: 0.0705 - val_accuracy: 0.9786\n",
            "Epoch 3/6\n",
            "938/938 [==============================] - 5s 5ms/step - loss: 0.0649 - accuracy: 0.9796 - val_loss: 0.0622 - val_accuracy: 0.9800\n",
            "Epoch 4/6\n",
            "938/938 [==============================] - 5s 5ms/step - loss: 0.0604 - accuracy: 0.9811 - val_loss: 0.0614 - val_accuracy: 0.9815\n",
            "Epoch 5/6\n",
            "938/938 [==============================] - 5s 5ms/step - loss: 0.0553 - accuracy: 0.9825 - val_loss: 0.0578 - val_accuracy: 0.9822\n",
            "Epoch 6/6\n",
            "938/938 [==============================] - 5s 5ms/step - loss: 0.0511 - accuracy: 0.9842 - val_loss: 0.0515 - val_accuracy: 0.9837\n",
            "Epoch 1/6\n",
            "938/938 [==============================] - 5s 5ms/step - loss: 0.0537 - accuracy: 0.9835 - val_loss: 0.0721 - val_accuracy: 0.9774\n",
            "Epoch 2/6\n",
            "938/938 [==============================] - 5s 5ms/step - loss: 0.0451 - accuracy: 0.9857 - val_loss: 0.0665 - val_accuracy: 0.9800\n",
            "Epoch 3/6\n",
            "938/938 [==============================] - 5s 6ms/step - loss: 0.0416 - accuracy: 0.9868 - val_loss: 0.0690 - val_accuracy: 0.9797\n",
            "Epoch 4/6\n",
            "938/938 [==============================] - 5s 5ms/step - loss: 0.0404 - accuracy: 0.9877 - val_loss: 0.0777 - val_accuracy: 0.9770\n",
            "Epoch 5/6\n",
            "938/938 [==============================] - 5s 5ms/step - loss: 0.0374 - accuracy: 0.9877 - val_loss: 0.0683 - val_accuracy: 0.9804\n",
            "Epoch 6/6\n",
            "938/938 [==============================] - 5s 5ms/step - loss: 0.0353 - accuracy: 0.9887 - val_loss: 0.0648 - val_accuracy: 0.9813\n",
            "Epoch 1/6\n",
            "938/938 [==============================] - 5s 5ms/step - loss: 0.0416 - accuracy: 0.9865 - val_loss: 0.0427 - val_accuracy: 0.9869\n",
            "Epoch 2/6\n",
            "938/938 [==============================] - 5s 5ms/step - loss: 0.0327 - accuracy: 0.9892 - val_loss: 0.0431 - val_accuracy: 0.9867\n",
            "Epoch 3/6\n",
            "938/938 [==============================] - 5s 5ms/step - loss: 0.0301 - accuracy: 0.9902 - val_loss: 0.0461 - val_accuracy: 0.9857\n",
            "Epoch 4/6\n",
            "938/938 [==============================] - 5s 5ms/step - loss: 0.0296 - accuracy: 0.9905 - val_loss: 0.0435 - val_accuracy: 0.9871\n",
            "Epoch 5/6\n",
            "938/938 [==============================] - 5s 5ms/step - loss: 0.0271 - accuracy: 0.9912 - val_loss: 0.0477 - val_accuracy: 0.9859\n",
            "Epoch 6/6\n",
            "938/938 [==============================] - 5s 5ms/step - loss: 0.0253 - accuracy: 0.9919 - val_loss: 0.0471 - val_accuracy: 0.9863\n"
          ]
        }
      ]
    },
    {
      "cell_type": "code",
      "metadata": {
        "colab": {
          "base_uri": "https://localhost:8080/",
          "height": 312
        },
        "id": "QnAtdWSv9tQI",
        "outputId": "9a1998c1-025f-4f45-c4de-6e5dceaa83ba"
      },
      "source": [
        "# TRAINING ACCURACY SUMMARY\n",
        "acc_5 = history_5.history['accuracy']\n",
        "acc_4 = history_4.history['accuracy']\n",
        "acc_3 = history_3.history['accuracy']\n",
        "acc_2 = history_2.history['accuracy']\n",
        "acc_1 = history_1.history['accuracy']\n",
        "\n",
        "# TESTING ACCURACY SUMMARY\n",
        "val_acc_5 = history_5.history['val_accuracy']\n",
        "val_acc_4 = history_4.history['val_accuracy']\n",
        "val_acc_3 = history_3.history['val_accuracy']\n",
        "val_acc_2 = history_2.history['val_accuracy']\n",
        "val_acc_1 = history_1.history['val_accuracy']\n",
        "\n",
        "acc = []\n",
        "for a in acc_5:\n",
        "  acc.append(a)\n",
        "for b in acc_4:\n",
        "  acc.append(b)\n",
        "for c in acc_3:\n",
        "  acc.append(c)\n",
        "for d in acc_2:\n",
        "  acc.append(d)\n",
        "for e in acc_1:\n",
        "  acc.append(e)\n",
        "\n",
        "val_acc = []\n",
        "for va in val_acc_5:\n",
        "  val_acc.append(va)\n",
        "for vb in val_acc_4:\n",
        "  val_acc.append(vb)\n",
        "for vc in val_acc_3:\n",
        "  val_acc.append(vc)\n",
        "for vd in val_acc_2:\n",
        "  val_acc.append(vd)\n",
        "for ve in val_acc_1:\n",
        "  val_acc.append(ve)\n",
        "\n",
        "print(len(acc),len(val_acc))\n",
        "\n",
        "plt.plot(acc)\n",
        "plt.plot(val_acc)\n",
        "plt.title('with incremental denoising')\n",
        "plt.ylabel('accuracy')\n",
        "plt.xlabel('epoch')\n",
        "plt.legend(['train', 'test'], loc='upper left')\n",
        "plt.show()"
      ],
      "execution_count": null,
      "outputs": [
        {
          "output_type": "stream",
          "name": "stdout",
          "text": [
            "30 30\n"
          ]
        },
        {
          "output_type": "display_data",
          "data": {
            "image/png": "[encoded data removed]",
            "text/plain": [
              "<Figure size 432x288 with 1 Axes>"
            ]
          },
          "metadata": {
            "needs_background": "light"
          }
        }
      ]
    },
    {
      "cell_type": "code",
      "metadata": {
        "id": "1mINGkpHHBW6",
        "colab": {
          "base_uri": "https://localhost:8080/"
        },
        "outputId": "5803b22a-43e0-402a-c42a-f598ad0d35fc"
      },
      "source": [
        "# Finding the loss and accuracy of the model\n",
        "score = model.evaluate(test_x, test_y)\n",
        "\n",
        "print('Test Loss:', score[0])\n",
        "print('Test accuracy:', score[1])"
      ],
      "execution_count": null,
      "outputs": [
        {
          "output_type": "stream",
          "name": "stdout",
          "text": [
            "313/313 [==============================] - 1s 3ms/step - loss: 0.0471 - accuracy: 0.9863\n",
            "Test Loss: 0.047144610434770584\n",
            "Test accuracy: 0.986299991607666\n"
          ]
        }
      ]
    }
  ]
}