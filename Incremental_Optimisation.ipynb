{
  "nbformat": 4,
  "nbformat_minor": 0,
  "metadata": {
    "colab": {
      "name": "Incremental Optimisation.ipynb",
      "provenance": [],
      "authorship_tag": "ABX9TyNElsPXU20b0b7wdxsUdpmK",
      "include_colab_link": true
    },
    "kernelspec": {
      "name": "python3",
      "display_name": "Python 3"
    },
    "language_info": {
      "name": "python"
    },
    "accelerator": "GPU"
  },
  "cells": [
    {
      "cell_type": "markdown",
      "metadata": {
        "id": "view-in-github",
        "colab_type": "text"
      },
      "source": [
        "<a href=\"https://colab.research.google.com/github/sahil3Vedi/Incremental-Optimisation-CNNs/blob/main/Incremental_Optimisation.ipynb\" target=\"_parent\"><img src=\"https://colab.research.google.com/assets/colab-badge.svg\" alt=\"Open In Colab\"/></a>"
      ]
    },
    {
      "cell_type": "code",
      "metadata": {
        "id": "jLrJSdPS_3yC"
      },
      "source": [
        "'''\n",
        "Implementing LeNet 5 on the MNIST dataset using Keras\n",
        "'''\n",
        "# Credits to https://github.com/vaibhavcodes/DeepLearning-Architectures for providing the starter code\n",
        "\n",
        "# Importing Libraries\n",
        "import tensorflow as tf\n",
        "import keras\n",
        "from keras.datasets import mnist\n",
        "from keras.models import Sequential\n",
        "from keras.layers import Conv2D, AvgPool2D, Flatten, Dense, Dropout\n",
        "#from keras.optimizers import Adam\n",
        "from tensorflow.keras.optimizers import Adam \n",
        "from tensorflow.keras.utils import to_categorical\n",
        "from keras.utils.vis_utils import plot_model\n",
        "# Image processing & plotting\n",
        "from PIL import Image\n",
        "import matplotlib.pyplot as plt\n",
        "import numpy as np\n",
        "import cv2 as cv"
      ],
      "execution_count": 38,
      "outputs": []
    },
    {
      "cell_type": "code",
      "metadata": {
        "id": "XG3pJBfOAMVb"
      },
      "source": [
        "# Loading the dataset and performing train-test split\n",
        "(train_x, train_y), (test_x, test_y) = mnist.load_data()\n",
        "TRAIN_X = []\n",
        "kernel = np.ones((5,5),np.float32)/25\n",
        "for img in train_x:\n",
        "  sharp = img.reshape(28,28)\n",
        "  dst = cv.filter2D(sharp,-1,kernel)\n",
        "  TRAIN_X.append(dst)\n",
        "\n",
        "TRAIN_X = np.array(TRAIN_X)"
      ],
      "execution_count": 24,
      "outputs": []
    },
    {
      "cell_type": "code",
      "metadata": {
        "colab": {
          "base_uri": "https://localhost:8080/"
        },
        "id": "7nMZV_JECrNp",
        "outputId": "6f28d5a8-dd86-4930-8eab-9bb3045e772c"
      },
      "source": [
        "print(np.shape(train_x))\n",
        "print(np.shape(TRAIN_X))"
      ],
      "execution_count": 25,
      "outputs": [
        {
          "output_type": "stream",
          "name": "stdout",
          "text": [
            "(60000, 28, 28)\n",
            "(60000, 28, 28)\n"
          ]
        }
      ]
    },
    {
      "cell_type": "code",
      "metadata": {
        "colab": {
          "base_uri": "https://localhost:8080/"
        },
        "id": "QTh4pHpoCBvk",
        "outputId": "1f2d2f0e-a2f9-418a-f37a-1b9610343cd4"
      },
      "source": [
        "# Checking the sizes of train and test split\n",
        "print(\"The size of TRIAN_X is: {}\".format(TRAIN_X.shape))\n",
        "print(\"The size of train_x is: {}\".format(train_x.shape))\n",
        "print(\"The size of train_y is: {}\".format(train_y.shape))\n",
        "print(\"The size of test_x is: {}\".format(test_x.shape))\n",
        "print(\"The size of test_y is: {}\".format(test_y.shape))\n",
        "\n",
        "# Performing reshaping operations = Converting into 4D\n",
        "TRAIN_X = TRAIN_X.reshape(TRAIN_X.shape[0], 28, 28, 1)\n",
        "train_x = train_x.reshape(train_x.shape[0], 28, 28, 1)\n",
        "test_x = test_x.reshape(test_x.shape[0], 28, 28, 1)\n",
        "\n",
        "# Normalizing the values of the image- Converting in between 0 and 1\n",
        "TRAIN_X = TRAIN_X/255.0\n",
        "train_x = train_x/255.0\n",
        "test_x = test_x/255.0\n",
        "\n",
        "# One-hot encoding the labels\n",
        "train_y = to_categorical(train_y, num_classes=10)\n",
        "test_y = to_categorical(test_y, num_classes=10)"
      ],
      "execution_count": 26,
      "outputs": [
        {
          "output_type": "stream",
          "name": "stdout",
          "text": [
            "The size of TRIAN_X is: (60000, 28, 28)\n",
            "The size of train_x is: (60000, 28, 28)\n",
            "The size of train_y is: (60000,)\n",
            "The size of test_x is: (10000, 28, 28)\n",
            "The size of test_y is: (10000,)\n"
          ]
        }
      ]
    },
    {
      "cell_type": "code",
      "metadata": {
        "colab": {
          "base_uri": "https://localhost:8080/"
        },
        "id": "RgelWjFOAQKY",
        "outputId": "7c6d3193-73f4-4c92-89eb-1c1e4e4acbba"
      },
      "source": [
        "# Building the Model Architecture\n",
        "\n",
        "# Instanciate an empty model\n",
        "model = Sequential()\n",
        "\n",
        "# Adding a Convolution Layer C1\n",
        "# Input shape = N = (28 x 28)\n",
        "# No. of filters  = 6\n",
        "# Filter size = f = (5 x 5)\n",
        "# Padding = P = 0\n",
        "# Strides = S = 1\n",
        "# Size of each feature map in C1 is (N-f+2P)/S +1 = 28-5+1 = 24\n",
        "# No. of parameters between input layer and C1 = (5*5 + 1)*6 = 156\n",
        "model.add(Conv2D(filters=6, kernel_size=(5,5), padding='valid', input_shape=(28,28,1), activation='tanh'))\n",
        "\n",
        "# Adding an Average Pooling Layer S2\n",
        "# Input shape = N = (24 x 24)\n",
        "# No. of filters = 6\n",
        "# Filter size = f = (2 x 2)\n",
        "# Padding = P = 0\n",
        "# Strides = S = 2\n",
        "# Size of each feature map in S2 is (N-f+2P)/S +1 = (24-2+0)/2+1 = 11+1 = 12\n",
        "# No. of parameters between C1 and S2 = (1+1)*6 = 12\n",
        "model.add(AvgPool2D(pool_size=(2,2)))\n",
        "\n",
        "# Adding a Convolution Layer C3\n",
        "# Input shape = N = (12 x 12)\n",
        "# No. of filters  = 16\n",
        "# Filter size = f = (5 x 5)\n",
        "# Padding = P = 0\n",
        "# Strides = S = 1\n",
        "# Size of each feature map in C3 is (N-f+2P)/S +1 = 12-5+1 = 8\n",
        "# No. of parameters between S2 and C3 = (5*5*6*16 + 16) + 16 = 2416\n",
        "model.add(Conv2D(filters=16, kernel_size=(5,5), padding='valid', activation='tanh'))\n",
        "\n",
        "# Adding an Average Pooling Layer S4\n",
        "# Input shape = N = (8 x 8)\n",
        "# No. of filters = 16\n",
        "# Filter size = f = (2 x 2)\n",
        "# Padding = P = 0\n",
        "# Strides = S = 2\n",
        "# Size of each feature map in S4 is (N-f+2P)/S +1 = (8-2+0)/2+1 = 3+1 = 4\n",
        "# No. of parameters between C3 and S4 = (1+1)*16 = 32\n",
        "model.add(AvgPool2D(pool_size=(2,2)))\n",
        "\n",
        "# As compared to LeNet-5 architecture there was one more application of convolution but in our code  further application of \n",
        "# convolution with (5 x 5) filter would result in a negative dimension which is not possible. So we aren't applying any more\n",
        "# convolution here.\n",
        "\n",
        "# Flattening the layer S4\n",
        "# There would be 16*(4*4) = 256 neurons\n",
        "model.add(Flatten())\n",
        "\n",
        "# Adding a Dense layer with `tanh` activation+# \n",
        "# No. of inputs = 256\n",
        "# No. of outputs = 120\n",
        "# No. of parameters = 256*120 + 120 = 30,840\n",
        "model.add(Dense(120, activation='tanh'))\n",
        "model.add(Dropout(.2, input_shape=(120,)))\n",
        "\n",
        "# Adding a Dense layer with `tanh` activation\n",
        "# No. of inputs = 120\n",
        "# No. of outputs = 84\n",
        "# No. of parameters = 120*84 + 84 = 10,164\n",
        "model.add(Dense(84, activation='tanh'))\n",
        "model.add(Dropout(.05, input_shape=(84,)))\n",
        "\n",
        "# Adding a Dense layer with `softmax` activation\n",
        "# No. of inputs = 84\n",
        "# No. of outputs = 10\n",
        "# No. of parameters = 84*10 + 10 = 850\n",
        "model.add(Dense(10, activation='softmax'))\n",
        "\n",
        "model.summary()"
      ],
      "execution_count": 56,
      "outputs": [
        {
          "output_type": "stream",
          "name": "stdout",
          "text": [
            "Model: \"sequential_15\"\n",
            "_________________________________________________________________\n",
            "Layer (type)                 Output Shape              Param #   \n",
            "=================================================================\n",
            "conv2d_30 (Conv2D)           (None, 24, 24, 6)         156       \n",
            "_________________________________________________________________\n",
            "average_pooling2d_30 (Averag (None, 12, 12, 6)         0         \n",
            "_________________________________________________________________\n",
            "conv2d_31 (Conv2D)           (None, 8, 8, 16)          2416      \n",
            "_________________________________________________________________\n",
            "average_pooling2d_31 (Averag (None, 4, 4, 16)          0         \n",
            "_________________________________________________________________\n",
            "flatten_15 (Flatten)         (None, 256)               0         \n",
            "_________________________________________________________________\n",
            "dense_27 (Dense)             (None, 120)               30840     \n",
            "_________________________________________________________________\n",
            "dropout_8 (Dropout)          (None, 120)               0         \n",
            "_________________________________________________________________\n",
            "dense_28 (Dense)             (None, 84)                10164     \n",
            "_________________________________________________________________\n",
            "dropout_9 (Dropout)          (None, 84)                0         \n",
            "_________________________________________________________________\n",
            "dense_29 (Dense)             (None, 10)                850       \n",
            "=================================================================\n",
            "Total params: 44,426\n",
            "Trainable params: 44,426\n",
            "Non-trainable params: 0\n",
            "_________________________________________________________________\n"
          ]
        }
      ]
    },
    {
      "cell_type": "code",
      "metadata": {
        "colab": {
          "base_uri": "https://localhost:8080/"
        },
        "id": "INtJ_RNwAxPJ",
        "outputId": "5088077e-0eb4-486b-8407-fe34fc35d478"
      },
      "source": [
        "# Compiling the model\n",
        "model.compile(loss='categorical_crossentropy', optimizer=Adam(), metrics=['accuracy'])\n",
        "history_1 = model.fit(TRAIN_X, train_y, batch_size=128, epochs=6, verbose=1, validation_data=(test_x, test_y))\n",
        "history_2 = model.fit(train_x, train_y, batch_size=128, epochs=14, verbose=1, validation_data=(test_x, test_y))"
      ],
      "execution_count": 57,
      "outputs": [
        {
          "output_type": "stream",
          "name": "stdout",
          "text": [
            "Epoch 1/6\n",
            "469/469 [==============================] - 4s 7ms/step - loss: 0.4527 - accuracy: 0.8647 - val_loss: 0.2300 - val_accuracy: 0.9305\n",
            "Epoch 2/6\n",
            "469/469 [==============================] - 3s 6ms/step - loss: 0.2204 - accuracy: 0.9323 - val_loss: 0.2037 - val_accuracy: 0.9361\n",
            "Epoch 3/6\n",
            "469/469 [==============================] - 3s 6ms/step - loss: 0.1607 - accuracy: 0.9497 - val_loss: 0.1495 - val_accuracy: 0.9537\n",
            "Epoch 4/6\n",
            "469/469 [==============================] - 3s 6ms/step - loss: 0.1350 - accuracy: 0.9577 - val_loss: 0.1427 - val_accuracy: 0.9566\n",
            "Epoch 5/6\n",
            "469/469 [==============================] - 3s 7ms/step - loss: 0.1136 - accuracy: 0.9643 - val_loss: 0.1308 - val_accuracy: 0.9601\n",
            "Epoch 6/6\n",
            "469/469 [==============================] - 3s 7ms/step - loss: 0.0994 - accuracy: 0.9687 - val_loss: 0.1249 - val_accuracy: 0.9598\n",
            "Epoch 1/14\n",
            "469/469 [==============================] - 3s 7ms/step - loss: 0.0824 - accuracy: 0.9746 - val_loss: 0.0618 - val_accuracy: 0.9807\n",
            "Epoch 2/14\n",
            "469/469 [==============================] - 3s 6ms/step - loss: 0.0690 - accuracy: 0.9786 - val_loss: 0.0595 - val_accuracy: 0.9808\n",
            "Epoch 3/14\n",
            "469/469 [==============================] - 3s 6ms/step - loss: 0.0613 - accuracy: 0.9807 - val_loss: 0.0570 - val_accuracy: 0.9836\n",
            "Epoch 4/14\n",
            "469/469 [==============================] - 3s 6ms/step - loss: 0.0551 - accuracy: 0.9823 - val_loss: 0.0511 - val_accuracy: 0.9830\n",
            "Epoch 5/14\n",
            "469/469 [==============================] - 3s 6ms/step - loss: 0.0502 - accuracy: 0.9842 - val_loss: 0.0542 - val_accuracy: 0.9832\n",
            "Epoch 6/14\n",
            "469/469 [==============================] - 3s 7ms/step - loss: 0.0460 - accuracy: 0.9851 - val_loss: 0.0452 - val_accuracy: 0.9852\n",
            "Epoch 7/14\n",
            "469/469 [==============================] - 3s 6ms/step - loss: 0.0430 - accuracy: 0.9868 - val_loss: 0.0429 - val_accuracy: 0.9866\n",
            "Epoch 8/14\n",
            "469/469 [==============================] - 3s 7ms/step - loss: 0.0395 - accuracy: 0.9871 - val_loss: 0.0438 - val_accuracy: 0.9871\n",
            "Epoch 9/14\n",
            "469/469 [==============================] - 3s 6ms/step - loss: 0.0381 - accuracy: 0.9877 - val_loss: 0.0412 - val_accuracy: 0.9874\n",
            "Epoch 10/14\n",
            "469/469 [==============================] - 3s 6ms/step - loss: 0.0346 - accuracy: 0.9886 - val_loss: 0.0448 - val_accuracy: 0.9863\n",
            "Epoch 11/14\n",
            "469/469 [==============================] - 3s 7ms/step - loss: 0.0336 - accuracy: 0.9894 - val_loss: 0.0412 - val_accuracy: 0.9872\n",
            "Epoch 12/14\n",
            "469/469 [==============================] - 3s 6ms/step - loss: 0.0302 - accuracy: 0.9901 - val_loss: 0.0401 - val_accuracy: 0.9872\n",
            "Epoch 13/14\n",
            "469/469 [==============================] - 3s 6ms/step - loss: 0.0286 - accuracy: 0.9905 - val_loss: 0.0415 - val_accuracy: 0.9870\n",
            "Epoch 14/14\n",
            "469/469 [==============================] - 3s 7ms/step - loss: 0.0273 - accuracy: 0.9908 - val_loss: 0.0440 - val_accuracy: 0.9874\n"
          ]
        }
      ]
    },
    {
      "cell_type": "code",
      "metadata": {
        "colab": {
          "base_uri": "https://localhost:8080/",
          "height": 312
        },
        "id": "QnAtdWSv9tQI",
        "outputId": "8ee1c5da-98b6-4141-92c6-cb8c277a3190"
      },
      "source": [
        "acc_1  = history_1.history['accuracy']\n",
        "val_acc_1  = history_1.history['val_accuracy']\n",
        "acc_2 = history_2.history['accuracy']\n",
        "val_acc_2 = history_2.history['val_accuracy']\n",
        "\n",
        "acc = []\n",
        "for a in acc_1:\n",
        "  acc.append(a)\n",
        "for b in acc_2:\n",
        "  acc.append(b)\n",
        "\n",
        "val_acc = []\n",
        "for va in val_acc_1:\n",
        "  val_acc.append(va)\n",
        "for vb in val_acc_2:\n",
        "  val_acc.append(vb)\n",
        "\n",
        "print(len(acc),len(val_acc))\n",
        "\n",
        "#final_acc = np.concatenate(acc_1, acc_2)\n",
        "#final_val_acc = np.concatenate(val_acc_1,val_acc_2)\n",
        "\n",
        "plt.plot(acc)\n",
        "plt.plot(val_acc)\n",
        "plt.title('model accuracy')\n",
        "plt.ylabel('accuracy')\n",
        "plt.xlabel('epoch')\n",
        "plt.legend(['train', 'test'], loc='upper left')\n",
        "plt.show()"
      ],
      "execution_count": 58,
      "outputs": [
        {
          "output_type": "stream",
          "name": "stdout",
          "text": [
            "20 20\n"
          ]
        },
        {
          "output_type": "display_data",
          "data": {
            "image/png": "[encoded data removed]",
            "text/plain": [
              "<Figure size 432x288 with 1 Axes>"
            ]
          },
          "metadata": {
            "needs_background": "light"
          }
        }
      ]
    },
    {
      "cell_type": "code",
      "metadata": {
        "id": "1mINGkpHHBW6",
        "colab": {
          "base_uri": "https://localhost:8080/"
        },
        "outputId": "d639428c-50f5-47b9-d9b1-f2d14c5aab05"
      },
      "source": [
        "# Finding the loss and accuracy of the model\n",
        "score = model.evaluate(test_x, test_y)\n",
        "\n",
        "print('Test Loss:', score[0])\n",
        "print('Test accuracy:', score[1])"
      ],
      "execution_count": 59,
      "outputs": [
        {
          "output_type": "stream",
          "name": "stdout",
          "text": [
            "313/313 [==============================] - 1s 3ms/step - loss: 0.0440 - accuracy: 0.9874\n",
            "Test Loss: 0.043978236615657806\n",
            "Test accuracy: 0.9873999953269958\n"
          ]
        }
      ]
    }
  ]
}